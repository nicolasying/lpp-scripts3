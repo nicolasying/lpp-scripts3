{
 "cells": [
  {
   "cell_type": "code",
   "execution_count": 10,
   "metadata": {},
   "outputs": [],
   "source": [
    "from nilearn.masking import compute_multi_epi_mask, compute_epi_mask\n",
    "from nilearn.masking import apply_mask\n",
    "from nilearn.input_data import MultiNiftiMasker\n",
    "from nilearn._utils import check_niimg\n",
    "\n",
    "import nibabel \n",
    "\n",
    "import glob\n",
    "import getopt\n",
    "import os\n",
    "import os.path as op\n",
    "import sys\n",
    "import nibabel as nib\n",
    "import numpy as np\n",
    "from numpy.random import randint\n",
    "from joblib import dump, load\n",
    "from joblib import Parallel, delayed\n",
    "\n",
    "import csv\n",
    "import pandas as pd\n",
    "import seaborn as sns\n",
    "\n",
    "from sklearn.linear_model import Ridge\n",
    "from sklearn.model_selection import KFold, LeaveOneGroupOut\n",
    "from sklearn.metrics import r2_score\n",
    "\n",
    "from nilearn.image import math_img, mean_img, threshold_img\n",
    "from nilearn.plotting import plot_glass_brain\n",
    "from nilearn.image import coord_transform, resample_img\n",
    "import pylab as plt\n",
    "from joblib import Parallel, delayed\n",
    "import pickle\n"
   ]
  },
  {
   "cell_type": "code",
   "execution_count": 2,
   "metadata": {},
   "outputs": [],
   "source": [
    "imgs = glob.glob(os.path.join('../../french-mri-data/', 'sub*', \"run*.nii.gz\"))"
   ]
  },
  {
   "cell_type": "code",
   "execution_count": 3,
   "metadata": {},
   "outputs": [],
   "source": [
    "ref_img = check_niimg(imgs[0])"
   ]
  },
  {
   "cell_type": "code",
   "execution_count": 4,
   "metadata": {},
   "outputs": [
    {
     "data": {
      "text/plain": [
       "((46, 57, 47, 294),\n",
       " array([[   3.15942597,   -0.        ,   -0.        ,  -71.08708191],\n",
       "        [  -0.        ,    3.15942597,   -0.        , -105.46392822],\n",
       "        [   0.        ,    0.        ,    3.15942597,  -63.66679764],\n",
       "        [   0.        ,    0.        ,    0.        ,    1.        ]]))"
      ]
     },
     "execution_count": 4,
     "metadata": {},
     "output_type": "execute_result"
    }
   ],
   "source": [
    "ref_img.shape, ref_img.affine"
   ]
  },
  {
   "cell_type": "code",
   "execution_count": 8,
   "metadata": {},
   "outputs": [
    {
     "name": "stdout",
     "output_type": "stream",
     "text": [
      "Affine ../../french-mri-data/sub-13_mp150285/run1_medn_afw.nii.gz\n",
      "[[   3.15942502   -0.           -0.          -71.08705902]\n",
      " [  -0.            3.15942502   -0.         -105.46389771]\n",
      " [   0.            0.            3.15942502  -63.66677475]\n",
      " [   0.            0.            0.            1.        ]]\n",
      "Affine ../../french-mri-data/sub-13_mp150285/run4_medn_afw.nii.gz\n",
      "[[   3.15942502   -0.           -0.          -71.08705902]\n",
      " [  -0.            3.15942502   -0.         -105.46389771]\n",
      " [   0.            0.            3.15942502  -63.66677475]\n",
      " [   0.            0.            0.            1.        ]]\n",
      "Affine ../../french-mri-data/sub-13_mp150285/run5_medn_afw.nii.gz\n",
      "[[   3.15942502   -0.           -0.          -71.08705902]\n",
      " [  -0.            3.15942502   -0.         -105.46389771]\n",
      " [   0.            0.            3.15942502  -63.66677475]\n",
      " [   0.            0.            0.            1.        ]]\n",
      "Affine ../../french-mri-data/sub-13_mp150285/run3_medn_afw.nii.gz\n",
      "[[   3.15942502   -0.           -0.          -71.08705902]\n",
      " [  -0.            3.15942502   -0.         -105.46389771]\n",
      " [   0.            0.            3.15942502  -63.66677475]\n",
      " [   0.            0.            0.            1.        ]]\n",
      "Affine ../../french-mri-data/sub-13_mp150285/run2_medn_afw.nii.gz\n",
      "[[   3.15942502   -0.           -0.          -71.08705902]\n",
      " [  -0.            3.15942502   -0.         -105.46389771]\n",
      " [   0.            0.            3.15942502  -63.66677475]\n",
      " [   0.            0.            0.            1.        ]]\n",
      "Affine ../../french-mri-data/sub-11_ma180162/run8_medn_afw.nii.gz\n",
      "[[   3.15942502   -0.           -0.          -71.08705902]\n",
      " [  -0.            3.15942502   -0.         -105.46389771]\n",
      " [   0.            0.            3.15942502  -63.66677475]\n",
      " [   0.            0.            0.            1.        ]]\n",
      "Affine ../../french-mri-data/sub-11_ma180162/run9_medn_afw.nii.gz\n",
      "[[   3.15942502   -0.           -0.          -71.08705902]\n",
      " [  -0.            3.15942502   -0.         -105.46389771]\n",
      " [   0.            0.            3.15942502  -63.66677475]\n",
      " [   0.            0.            0.            1.        ]]\n",
      "Affine ../../french-mri-data/sub-11_ma180162/run6_medn_afw.nii.gz\n",
      "[[   3.15942502   -0.           -0.          -71.08705902]\n",
      " [  -0.            3.15942502   -0.         -105.46389771]\n",
      " [   0.            0.            3.15942502  -63.66677475]\n",
      " [   0.            0.            0.            1.        ]]\n",
      "Affine ../../french-mri-data/sub-11_ma180162/run5_medn_afw.nii.gz\n",
      "[[   3.15942502   -0.           -0.          -71.08705902]\n",
      " [  -0.            3.15942502   -0.         -105.46389771]\n",
      " [   0.            0.            3.15942502  -63.66677475]\n",
      " [   0.            0.            0.            1.        ]]\n",
      "Affine ../../french-mri-data/sub-11_ma180162/run7_medn_afw.nii.gz\n",
      "[[   3.15942502   -0.           -0.          -71.08705902]\n",
      " [  -0.            3.15942502   -0.         -105.46389771]\n",
      " [   0.            0.            3.15942502  -63.66677475]\n",
      " [   0.            0.            0.            1.        ]]\n"
     ]
    }
   ],
   "source": [
    "for img in imgs:\n",
    "    nifti_img = check_niimg(img)\n",
    "    if np.any(nifti_img.affine != ref_img.affine):\n",
    "        print('Affine', img)\n",
    "        print(nifti_img.affine)\n",
    "    if nifti_img.shape[:3] != ref_img.shape[:3]:\n",
    "        print('Shape', img)\n",
    "        print(nifti_img.shape[:3])"
   ]
  },
  {
   "cell_type": "code",
   "execution_count": 15,
   "metadata": {},
   "outputs": [],
   "source": [
    "for i in range(1, 6):\n",
    "    img = '../../french-mri-data/sub-13_mp150285/run{}_medn_afw.nii.gz'.format(i)\n",
    "    nifti_img = check_niimg(img)\n",
    "    new_img = resample_img(nifti_img, target_affine=ref_img.affine)\n",
    "    img = '../../french-mri-data/sub-13_mp150285/run{}_medn_afw_resampled.nii.gz'.format(i)\n",
    "    nibabel.save(new_img, img)\n",
    "    \n",
    "for i in range(5, 10):\n",
    "    img = '../../french-mri-data/sub-11_ma180162/run{}_medn_afw.nii.gz'.format(i)\n",
    "    nifti_img = check_niimg(img)\n",
    "    new_img = resample_img(nifti_img, target_affine=ref_img.affine)\n",
    "    img = '../../french-mri-data/sub-11_ma180162/run{}_medn_afw_resampled.nii.gz'.format(i)\n",
    "    nibabel.save(new_img, img)"
   ]
  },
  {
   "cell_type": "code",
   "execution_count": 16,
   "metadata": {},
   "outputs": [],
   "source": [
    "import pickle"
   ]
  },
  {
   "cell_type": "code",
   "execution_count": 18,
   "metadata": {},
   "outputs": [
    {
     "name": "stderr",
     "output_type": "stream",
     "text": [
      "/home/sying/root/anaconda3/envs/micipsa/lib/python3.6/site-packages/ipykernel_launcher.py:1: ResourceWarning: unclosed file <_io.BufferedReader name='./results-indiv-ridge/fr/rms-wrate-cwrate/cache/masker.pkl'>\n",
      "  \"\"\"Entry point for launching an IPython kernel.\n"
     ]
    }
   ],
   "source": [
    "mask = pickle.load(open('./results-indiv-ridge/fr/rms-wrate-cwrate/cache/masker.pkl', mode='rb'))"
   ]
  },
  {
   "cell_type": "code",
   "execution_count": 20,
   "metadata": {},
   "outputs": [],
   "source": [
    "from nilearn import plotting"
   ]
  },
  {
   "cell_type": "code",
   "execution_count": 23,
   "metadata": {},
   "outputs": [],
   "source": [
    "import matplotlib.pyplot as plt"
   ]
  },
  {
   "cell_type": "code",
   "execution_count": 25,
   "metadata": {},
   "outputs": [
    {
     "data": {
      "text/plain": [
       "<nibabel.nifti1.Nifti1Image at 0x7f603b5069e8>"
      ]
     },
     "execution_count": 25,
     "metadata": {},
     "output_type": "execute_result"
    }
   ],
   "source": [
    "mask.mask_img"
   ]
  },
  {
   "cell_type": "code",
   "execution_count": 26,
   "metadata": {},
   "outputs": [
    {
     "name": "stderr",
     "output_type": "stream",
     "text": [
      "/home/sying/root/anaconda3/envs/micipsa/lib/python3.6/site-packages/scipy/ndimage/measurements.py:272: DeprecationWarning: In future, it will be an error for 'np.bool_' scalars to be interpreted as an index\n",
      "  return _nd_image.find_objects(input, max_label)\n"
     ]
    },
    {
     "data": {
      "image/png": "[encoded data removed]",
      "text/plain": [
       "<Figure size 475.2x187.2 with 4 Axes>"
      ]
     },
     "metadata": {},
     "output_type": "display_data"
    }
   ],
   "source": [
    "plotting.plot_roi(mask.mask_img)\n",
    "plt.show()"
   ]
  },
  {
   "cell_type": "code",
   "execution_count": null,
   "metadata": {},
   "outputs": [],
   "source": []
  }
 ],
 "metadata": {
  "kernelspec": {
   "display_name": "Python 3",
   "language": "python",
   "name": "python3"
  },
  "language_info": {
   "codemirror_mode": {
    "name": "ipython",
    "version": 3
   },
   "file_extension": ".py",
   "mimetype": "text/x-python",
   "name": "python",
   "nbconvert_exporter": "python",
   "pygments_lexer": "ipython3",
   "version": "3.6.7"
  }
 },
 "nbformat": 4,
 "nbformat_minor": 2
}
