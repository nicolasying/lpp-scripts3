{
 "cells": [
  {
   "cell_type": "code",
   "execution_count": 1,
   "metadata": {},
   "outputs": [
    {
     "name": "stderr",
     "output_type": "stream",
     "text": [
      "/home/sying/root/anaconda3/envs/micipsa/lib/python3.6/importlib/_bootstrap.py:219: ImportWarning: can't resolve package from __spec__ or __package__, falling back on __name__ and __path__\n",
      "  return f(*args, **kwds)\n"
     ]
    }
   ],
   "source": [
    "import csv\n",
    "import getopt\n",
    "import glob\n",
    "import os\n",
    "import os.path as op\n",
    "import pickle\n",
    "import sys\n",
    "import warnings\n",
    "\n",
    "import matplotlib.pyplot as plt\n",
    "from mpl_toolkits.mplot3d import Axes3D\n",
    "import nibabel as nib\n",
    "import nistats\n",
    "import numpy as np\n",
    "import pandas as pd\n",
    "import pylab as plt\n",
    "import seaborn as sns\n",
    "from joblib import Parallel, delayed, dump, load\n",
    "from nilearn.image import coord_transform, math_img, mean_img, threshold_img\n",
    "from nilearn.input_data import MultiNiftiMasker\n",
    "from nilearn.masking import apply_mask, compute_multi_epi_mask\n",
    "from nilearn.plotting import plot_glass_brain, plot_stat_map\n",
    "from nistats.first_level_model import FirstLevelModel\n",
    "from nistats.reporting import plot_design_matrix\n",
    "from nistats.second_level_model import SecondLevelModel\n",
    "from numpy.random import randint\n",
    "from scipy.stats import norm\n",
    "from sklearn.linear_model import Ridge\n",
    "from sklearn.metrics import r2_score\n",
    "from sklearn.model_selection import KFold, LeaveOneGroupOut\n",
    "from sklearn.multioutput import MultiOutputRegressor\n",
    "\n",
    "from xgboost import XGBRegressor\n",
    "\n",
    "sys.path.append(\"/home/sying/Documents/LePetitPrince_Pallier2018/lpp-scripts3/models\")\n",
    "\n",
    "import GLM_dim_search_lib\n",
    "from lasso_lib import \\\n",
    "    compute_crossvalidated_r2_all_voxel as \\\n",
    "    compute_crossvalidated_r2_all_voxel_lasso\n",
    "from model_utils import compute_global_masker\n",
    "from ridge_all_lib import compute_crossvalidated_r2_all_voxel\n",
    "from dim_alpha_search_lib import dim_alpha_search\n",
    "\n",
    "warnings.simplefilter(action='ignore', category=FutureWarning)\n",
    "\n",
    "from ipywidgets import interact, interactive, fixed, interacat_manual\n",
    "import ipywidgets as widgets"
   ]
  },
  {
   "cell_type": "code",
   "execution_count": 7,
   "metadata": {},
   "outputs": [],
   "source": [
    "def clean_rscorer(estimator, X, y):\n",
    "    x1 = r2_score(y, estimator.predict(X), multioutput='raw_values')\n",
    "    x1 = np.array([0 if (x < .0 or x >= .99) else x for x in x1])\n",
    "    return x1"
   ]
  },
  {
   "cell_type": "code",
   "execution_count": 11,
   "metadata": {},
   "outputs": [],
   "source": [
    "def log(r2_train, r2_test, alpha, voxel_id):\n",
    "    \"\"\" just logging stats per fold to a csv file \"\"\"\n",
    "    logcsvwriter.writerow([loglabel, voxel_id, alpha, 'training', np.mean(r2_train), np.std(r2_train), np.min(r2_train), np.max(r2_train)])\n",
    "    logcsvwriter.writerow([loglabel, voxel_id, alpha, 'test', np.mean(r2_test), np.std(r2_test), np.min(r2_test), np.max(r2_test)])"
   ]
  },
  {
   "cell_type": "markdown",
   "metadata": {},
   "source": [
    "# Global Config"
   ]
  },
  {
   "cell_type": "code",
   "execution_count": 2,
   "metadata": {},
   "outputs": [],
   "source": [
    "comparison_name = 'dim_alpha_search'"
   ]
  },
  {
   "cell_type": "code",
   "execution_count": 2,
   "metadata": {},
   "outputs": [],
   "source": [
    "lingua = 'fr'\n",
    "root_dir = '/home/sying/Documents/LePetitPrince_Pallier2018/lpp-scripts3/'\n",
    "subjects_fmri_data = '/home/sying/Documents/LePetitPrince_Pallier2018/french-mri-data/'\n",
    "regs_dir = op.join(root_dir, 'outputs', 'regressors', lingua)\n",
    "base_model = 'rms-wrate-cwrate'\n",
    "sim_model = 'rms-wrate-cwrate-sim103'\n",
    "asn_model = 'rms-wrate-cwrate-asn200'"
   ]
  },
  {
   "cell_type": "code",
   "execution_count": 3,
   "metadata": {},
   "outputs": [],
   "source": [
    "with open(op.join(root_dir, 'outputs', 'masker', lingua, 'masker.pkl'), mode='rb') as fl:\n",
    "    masker = pickle.load(fl)\n",
    "\n",
    "subjlist = [op.basename(f) for f in glob.glob(op.join(subjects_fmri_data, 'sub*'))]"
   ]
  },
  {
   "cell_type": "markdown",
   "metadata": {},
   "source": [
    "# Base Model Regression"
   ]
  },
  {
   "cell_type": "code",
   "execution_count": 5,
   "metadata": {},
   "outputs": [],
   "source": [
    "model = base_model"
   ]
  },
  {
   "cell_type": "markdown",
   "metadata": {},
   "source": [
    "# Sim Model Regression"
   ]
  },
  {
   "cell_type": "code",
   "execution_count": 33,
   "metadata": {},
   "outputs": [],
   "source": [
    "model = sim_model"
   ]
  },
  {
   "cell_type": "code",
   "execution_count": 6,
   "metadata": {},
   "outputs": [],
   "source": [
    "design_matrices_dir = op.join(root_dir, 'outputs', 'design-matrices', lingua, model)\n",
    "first_level_results = op.join(root_dir, 'outputs', 'results-indiv-ridge', lingua, model)\n",
    "group_level_results = op.join(root_dir, 'outputs', 'results-group-ridge', lingua, model)\n",
    "output_dir = first_level_results"
   ]
  },
  {
   "cell_type": "code",
   "execution_count": 7,
   "metadata": {},
   "outputs": [],
   "source": [
    "design_files = sorted(glob.glob(op.join(design_matrices_dir, 'dmtx_?_ortho.csv')))\n",
    "if len(design_files) != 9:\n",
    "    print(\"dmtx_?.csv files not found in %s\" % dmtx_dir)\n",
    "    sys.exit(1)\n",
    "dtx_mat0 = [pd.read_csv(df) for df in design_files]\n",
    "dtx_mat = [((dtx - dtx.mean()) / dtx.std()).to_numpy() for dtx in dtx_mat0]"
   ]
  },
  {
   "cell_type": "code",
   "execution_count": 43,
   "metadata": {},
   "outputs": [
    {
     "data": {
      "text/plain": [
       "(26, 22)"
      ]
     },
     "execution_count": 43,
     "metadata": {},
     "output_type": "execute_result"
    }
   ],
   "source": [
    "alpha_space = np.array([0] + list(np.logspace(0, 2.4, 5)) + list(np.logspace(2.5, 4, 20)))\n",
    "dimension_space = np.array(list(range(4)) + list(range(4, 24, 2)) + list(range(24, 104, 10)))\n",
    "len(alpha_space), len(dimension_space)"
   ]
  },
  {
   "cell_type": "code",
   "execution_count": 8,
   "metadata": {},
   "outputs": [],
   "source": [
    "alpha_space = np.array([0, 3333])\n",
    "dimension_space = np.array([1,2,3])"
   ]
  },
  {
   "cell_type": "code",
   "execution_count": 11,
   "metadata": {},
   "outputs": [
    {
     "name": "stderr",
     "output_type": "stream",
     "text": [
      "/home/sying/root/anaconda3/envs/micipsa/lib/python3.6/site-packages/nilearn/_utils/cache_mixin.py:301: DeprecationWarning: The 'cachedir' attribute has been deprecated in version 0.12 and will be removed in version 0.14.\n",
      "Use os.path.join(memory.location, 'joblib') attribute instead.\n",
      "  if self.memory_level == 0 and self.memory.cachedir is not None:\n"
     ]
    }
   ],
   "source": [
    "with open(op.join(output_dir, \"test_dim_alpha_search.pkl\"), \"ab+\")) as dump_file:\n",
    "\n",
    "    subject = subjlist[0]\n",
    "    fmri_filenames = sorted(glob.glob(os.path.join(subjects_fmri_data, subject, \"run*.nii.gz\")))\n",
    "    fmri_runs = [masker.transform(f) for f in fmri_filenames]\n",
    "    r2train, r2test = dim_alpha_search(fmri_runs, dtx_mat, alpha_space, dimension_space, subject, dump_file)\n",
    "    \n",
    "    nib.save(masker.inverse_transform(r2train), op.join(\n",
    "                    output_dir, 'train_{}_dim_alpha_search.nii.gz'.format(subject)))\n",
    "\n",
    "    nib.save(masker.inverse_transform(r2test), op.join(\n",
    "            output_dir, 'test_{}_dim_alpha_search.nii.gz'.format(subject)))"
   ]
  },
  {
   "cell_type": "code",
   "execution_count": 36,
   "metadata": {},
   "outputs": [
    {
     "name": "stderr",
     "output_type": "stream",
     "text": [
      "/home/sying/root/anaconda3/envs/micipsa/lib/python3.6/site-packages/nilearn/_utils/cache_mixin.py:301: DeprecationWarning: The 'cachedir' attribute has been deprecated in version 0.12 and will be removed in version 0.14.\n",
      "Use os.path.join(memory.location, 'joblib') attribute instead.\n",
      "  if self.memory_level == 0 and self.memory.cachedir is not None:\n",
      "/home/sying/root/anaconda3/envs/micipsa/lib/python3.6/site-packages/nilearn/signal.py:59: RuntimeWarning: invalid value encountered in sqrt\n",
      "  std = np.sqrt((signals ** 2).sum(axis=0))\n"
     ]
    },
    {
     "name": "stdout",
     "output_type": "stream",
     "text": [
      "0\n"
     ]
    },
    {
     "ename": "KeyboardInterrupt",
     "evalue": "",
     "output_type": "error",
     "traceback": [
      "\u001b[0;31m---------------------------------------------------------------------------\u001b[0m",
      "\u001b[0;31mKeyboardInterrupt\u001b[0m                         Traceback (most recent call last)",
      "\u001b[0;32m<ipython-input-36-7c67ab9254b1>\u001b[0m in \u001b[0;36m<module>\u001b[0;34m\u001b[0m\n\u001b[1;32m     16\u001b[0m         \u001b[0mfmri_data\u001b[0m \u001b[0;34m=\u001b[0m \u001b[0mnp\u001b[0m\u001b[0;34m.\u001b[0m\u001b[0mvstack\u001b[0m\u001b[0;34m(\u001b[0m\u001b[0;34m[\u001b[0m\u001b[0mfmri_runs\u001b[0m\u001b[0;34m[\u001b[0m\u001b[0mi\u001b[0m\u001b[0;34m]\u001b[0m \u001b[0;32mfor\u001b[0m \u001b[0mi\u001b[0m \u001b[0;32min\u001b[0m \u001b[0mtrain\u001b[0m \u001b[0;32mif\u001b[0m \u001b[0mi\u001b[0m \u001b[0;34m!=\u001b[0m \u001b[0mcv_test_id\u001b[0m\u001b[0;34m]\u001b[0m\u001b[0;34m)\u001b[0m\u001b[0;34m\u001b[0m\u001b[0;34m\u001b[0m\u001b[0m\n\u001b[1;32m     17\u001b[0m         \u001b[0mpredictors\u001b[0m \u001b[0;34m=\u001b[0m \u001b[0mnp\u001b[0m\u001b[0;34m.\u001b[0m\u001b[0mvstack\u001b[0m\u001b[0;34m(\u001b[0m\u001b[0;34m[\u001b[0m\u001b[0mdtx_mat\u001b[0m\u001b[0;34m[\u001b[0m\u001b[0mi\u001b[0m\u001b[0;34m]\u001b[0m \u001b[0;32mfor\u001b[0m \u001b[0mi\u001b[0m \u001b[0;32min\u001b[0m \u001b[0mtrain\u001b[0m \u001b[0;32mif\u001b[0m \u001b[0mi\u001b[0m \u001b[0;34m!=\u001b[0m \u001b[0mcv_test_id\u001b[0m\u001b[0;34m]\u001b[0m\u001b[0;34m)\u001b[0m\u001b[0;34m\u001b[0m\u001b[0;34m\u001b[0m\u001b[0m\n\u001b[0;32m---> 18\u001b[0;31m         \u001b[0mregressor\u001b[0m \u001b[0;34m=\u001b[0m \u001b[0mMultiOutputRegressor\u001b[0m\u001b[0;34m(\u001b[0m\u001b[0mXGBRegressor\u001b[0m\u001b[0;34m(\u001b[0m\u001b[0mn_jobs\u001b[0m\u001b[0;34m=\u001b[0m\u001b[0;36m1\u001b[0m\u001b[0;34m,\u001b[0m \u001b[0mobjective\u001b[0m\u001b[0;34m=\u001b[0m\u001b[0;34m'reg:linear'\u001b[0m\u001b[0;34m)\u001b[0m\u001b[0;34m,\u001b[0m \u001b[0mn_jobs\u001b[0m\u001b[0;34m=\u001b[0m\u001b[0;34m-\u001b[0m\u001b[0;36m2\u001b[0m\u001b[0;34m)\u001b[0m\u001b[0;34m.\u001b[0m\u001b[0mfit\u001b[0m\u001b[0;34m(\u001b[0m\u001b[0mpredictors\u001b[0m\u001b[0;34m,\u001b[0m \u001b[0mfmri_data\u001b[0m\u001b[0;34m)\u001b[0m\u001b[0;34m\u001b[0m\u001b[0;34m\u001b[0m\u001b[0m\n\u001b[0m\u001b[1;32m     19\u001b[0m         \u001b[0mr2_cv_train_score\u001b[0m\u001b[0;34m[\u001b[0m\u001b[0midx\u001b[0m\u001b[0;34m,\u001b[0m \u001b[0;34m:\u001b[0m\u001b[0;34m]\u001b[0m \u001b[0;34m=\u001b[0m \u001b[0mclean_rscorer\u001b[0m\u001b[0;34m(\u001b[0m\u001b[0mregressor\u001b[0m\u001b[0;34m,\u001b[0m \u001b[0mpredictors\u001b[0m\u001b[0;34m,\u001b[0m \u001b[0mfmri_data\u001b[0m\u001b[0;34m)\u001b[0m\u001b[0;34m\u001b[0m\u001b[0;34m\u001b[0m\u001b[0m\n\u001b[1;32m     20\u001b[0m         \u001b[0mr2_cv_test_score\u001b[0m\u001b[0;34m[\u001b[0m\u001b[0midx\u001b[0m\u001b[0;34m,\u001b[0m \u001b[0;34m:\u001b[0m\u001b[0;34m]\u001b[0m \u001b[0;34m=\u001b[0m \u001b[0mclean_rscorer\u001b[0m\u001b[0;34m(\u001b[0m\u001b[0mregressor\u001b[0m\u001b[0;34m,\u001b[0m \u001b[0mdtx_mat\u001b[0m\u001b[0;34m[\u001b[0m\u001b[0mcv_test_id\u001b[0m\u001b[0;34m]\u001b[0m\u001b[0;34m,\u001b[0m \u001b[0mfmri_runs\u001b[0m\u001b[0;34m[\u001b[0m\u001b[0mcv_test_id\u001b[0m\u001b[0;34m]\u001b[0m\u001b[0;34m)\u001b[0m\u001b[0;34m\u001b[0m\u001b[0;34m\u001b[0m\u001b[0m\n",
      "\u001b[0;32m~/root/anaconda3/envs/micipsa/lib/python3.6/site-packages/sklearn/multioutput.py\u001b[0m in \u001b[0;36mfit\u001b[0;34m(self, X, y, sample_weight)\u001b[0m\n\u001b[1;32m    167\u001b[0m             delayed(_fit_estimator)(\n\u001b[1;32m    168\u001b[0m                 self.estimator, X, y[:, i], sample_weight)\n\u001b[0;32m--> 169\u001b[0;31m             for i in range(y.shape[1]))\n\u001b[0m\u001b[1;32m    170\u001b[0m         \u001b[0;32mreturn\u001b[0m \u001b[0mself\u001b[0m\u001b[0;34m\u001b[0m\u001b[0;34m\u001b[0m\u001b[0m\n\u001b[1;32m    171\u001b[0m \u001b[0;34m\u001b[0m\u001b[0m\n",
      "\u001b[0;32m~/root/anaconda3/envs/micipsa/lib/python3.6/site-packages/sklearn/externals/joblib/parallel.py\u001b[0m in \u001b[0;36m__call__\u001b[0;34m(self, iterable)\u001b[0m\n\u001b[1;32m    928\u001b[0m \u001b[0;34m\u001b[0m\u001b[0m\n\u001b[1;32m    929\u001b[0m             \u001b[0;32mwith\u001b[0m \u001b[0mself\u001b[0m\u001b[0;34m.\u001b[0m\u001b[0m_backend\u001b[0m\u001b[0;34m.\u001b[0m\u001b[0mretrieval_context\u001b[0m\u001b[0;34m(\u001b[0m\u001b[0;34m)\u001b[0m\u001b[0;34m:\u001b[0m\u001b[0;34m\u001b[0m\u001b[0;34m\u001b[0m\u001b[0m\n\u001b[0;32m--> 930\u001b[0;31m                 \u001b[0mself\u001b[0m\u001b[0;34m.\u001b[0m\u001b[0mretrieve\u001b[0m\u001b[0;34m(\u001b[0m\u001b[0;34m)\u001b[0m\u001b[0;34m\u001b[0m\u001b[0;34m\u001b[0m\u001b[0m\n\u001b[0m\u001b[1;32m    931\u001b[0m             \u001b[0;31m# Make sure that we get a last message telling us we are done\u001b[0m\u001b[0;34m\u001b[0m\u001b[0;34m\u001b[0m\u001b[0;34m\u001b[0m\u001b[0m\n\u001b[1;32m    932\u001b[0m             \u001b[0melapsed_time\u001b[0m \u001b[0;34m=\u001b[0m \u001b[0mtime\u001b[0m\u001b[0;34m.\u001b[0m\u001b[0mtime\u001b[0m\u001b[0;34m(\u001b[0m\u001b[0;34m)\u001b[0m \u001b[0;34m-\u001b[0m \u001b[0mself\u001b[0m\u001b[0;34m.\u001b[0m\u001b[0m_start_time\u001b[0m\u001b[0;34m\u001b[0m\u001b[0;34m\u001b[0m\u001b[0m\n",
      "\u001b[0;32m~/root/anaconda3/envs/micipsa/lib/python3.6/site-packages/sklearn/externals/joblib/parallel.py\u001b[0m in \u001b[0;36mretrieve\u001b[0;34m(self)\u001b[0m\n\u001b[1;32m    831\u001b[0m             \u001b[0;32mtry\u001b[0m\u001b[0;34m:\u001b[0m\u001b[0;34m\u001b[0m\u001b[0;34m\u001b[0m\u001b[0m\n\u001b[1;32m    832\u001b[0m                 \u001b[0;32mif\u001b[0m \u001b[0mgetattr\u001b[0m\u001b[0;34m(\u001b[0m\u001b[0mself\u001b[0m\u001b[0;34m.\u001b[0m\u001b[0m_backend\u001b[0m\u001b[0;34m,\u001b[0m \u001b[0;34m'supports_timeout'\u001b[0m\u001b[0;34m,\u001b[0m \u001b[0;32mFalse\u001b[0m\u001b[0;34m)\u001b[0m\u001b[0;34m:\u001b[0m\u001b[0;34m\u001b[0m\u001b[0;34m\u001b[0m\u001b[0m\n\u001b[0;32m--> 833\u001b[0;31m                     \u001b[0mself\u001b[0m\u001b[0;34m.\u001b[0m\u001b[0m_output\u001b[0m\u001b[0;34m.\u001b[0m\u001b[0mextend\u001b[0m\u001b[0;34m(\u001b[0m\u001b[0mjob\u001b[0m\u001b[0;34m.\u001b[0m\u001b[0mget\u001b[0m\u001b[0;34m(\u001b[0m\u001b[0mtimeout\u001b[0m\u001b[0;34m=\u001b[0m\u001b[0mself\u001b[0m\u001b[0;34m.\u001b[0m\u001b[0mtimeout\u001b[0m\u001b[0;34m)\u001b[0m\u001b[0;34m)\u001b[0m\u001b[0;34m\u001b[0m\u001b[0;34m\u001b[0m\u001b[0m\n\u001b[0m\u001b[1;32m    834\u001b[0m                 \u001b[0;32melse\u001b[0m\u001b[0;34m:\u001b[0m\u001b[0;34m\u001b[0m\u001b[0;34m\u001b[0m\u001b[0m\n\u001b[1;32m    835\u001b[0m                     \u001b[0mself\u001b[0m\u001b[0;34m.\u001b[0m\u001b[0m_output\u001b[0m\u001b[0;34m.\u001b[0m\u001b[0mextend\u001b[0m\u001b[0;34m(\u001b[0m\u001b[0mjob\u001b[0m\u001b[0;34m.\u001b[0m\u001b[0mget\u001b[0m\u001b[0;34m(\u001b[0m\u001b[0;34m)\u001b[0m\u001b[0;34m)\u001b[0m\u001b[0;34m\u001b[0m\u001b[0;34m\u001b[0m\u001b[0m\n",
      "\u001b[0;32m~/root/anaconda3/envs/micipsa/lib/python3.6/site-packages/sklearn/externals/joblib/_parallel_backends.py\u001b[0m in \u001b[0;36mwrap_future_result\u001b[0;34m(future, timeout)\u001b[0m\n\u001b[1;32m    519\u001b[0m         AsyncResults.get from multiprocessing.\"\"\"\n\u001b[1;32m    520\u001b[0m         \u001b[0;32mtry\u001b[0m\u001b[0;34m:\u001b[0m\u001b[0;34m\u001b[0m\u001b[0;34m\u001b[0m\u001b[0m\n\u001b[0;32m--> 521\u001b[0;31m             \u001b[0;32mreturn\u001b[0m \u001b[0mfuture\u001b[0m\u001b[0;34m.\u001b[0m\u001b[0mresult\u001b[0m\u001b[0;34m(\u001b[0m\u001b[0mtimeout\u001b[0m\u001b[0;34m=\u001b[0m\u001b[0mtimeout\u001b[0m\u001b[0;34m)\u001b[0m\u001b[0;34m\u001b[0m\u001b[0;34m\u001b[0m\u001b[0m\n\u001b[0m\u001b[1;32m    522\u001b[0m         \u001b[0;32mexcept\u001b[0m \u001b[0mLokyTimeoutError\u001b[0m\u001b[0;34m:\u001b[0m\u001b[0;34m\u001b[0m\u001b[0;34m\u001b[0m\u001b[0m\n\u001b[1;32m    523\u001b[0m             \u001b[0;32mraise\u001b[0m \u001b[0mTimeoutError\u001b[0m\u001b[0;34m(\u001b[0m\u001b[0;34m)\u001b[0m\u001b[0;34m\u001b[0m\u001b[0;34m\u001b[0m\u001b[0m\n",
      "\u001b[0;32m~/root/anaconda3/envs/micipsa/lib/python3.6/concurrent/futures/_base.py\u001b[0m in \u001b[0;36mresult\u001b[0;34m(self, timeout)\u001b[0m\n\u001b[1;32m    425\u001b[0m                 \u001b[0;32mreturn\u001b[0m \u001b[0mself\u001b[0m\u001b[0;34m.\u001b[0m\u001b[0m__get_result\u001b[0m\u001b[0;34m(\u001b[0m\u001b[0;34m)\u001b[0m\u001b[0;34m\u001b[0m\u001b[0;34m\u001b[0m\u001b[0m\n\u001b[1;32m    426\u001b[0m \u001b[0;34m\u001b[0m\u001b[0m\n\u001b[0;32m--> 427\u001b[0;31m             \u001b[0mself\u001b[0m\u001b[0;34m.\u001b[0m\u001b[0m_condition\u001b[0m\u001b[0;34m.\u001b[0m\u001b[0mwait\u001b[0m\u001b[0;34m(\u001b[0m\u001b[0mtimeout\u001b[0m\u001b[0;34m)\u001b[0m\u001b[0;34m\u001b[0m\u001b[0;34m\u001b[0m\u001b[0m\n\u001b[0m\u001b[1;32m    428\u001b[0m \u001b[0;34m\u001b[0m\u001b[0m\n\u001b[1;32m    429\u001b[0m             \u001b[0;32mif\u001b[0m \u001b[0mself\u001b[0m\u001b[0;34m.\u001b[0m\u001b[0m_state\u001b[0m \u001b[0;32min\u001b[0m \u001b[0;34m[\u001b[0m\u001b[0mCANCELLED\u001b[0m\u001b[0;34m,\u001b[0m \u001b[0mCANCELLED_AND_NOTIFIED\u001b[0m\u001b[0;34m]\u001b[0m\u001b[0;34m:\u001b[0m\u001b[0;34m\u001b[0m\u001b[0;34m\u001b[0m\u001b[0m\n",
      "\u001b[0;32m~/root/anaconda3/envs/micipsa/lib/python3.6/threading.py\u001b[0m in \u001b[0;36mwait\u001b[0;34m(self, timeout)\u001b[0m\n\u001b[1;32m    293\u001b[0m         \u001b[0;32mtry\u001b[0m\u001b[0;34m:\u001b[0m    \u001b[0;31m# restore state no matter what (e.g., KeyboardInterrupt)\u001b[0m\u001b[0;34m\u001b[0m\u001b[0;34m\u001b[0m\u001b[0m\n\u001b[1;32m    294\u001b[0m             \u001b[0;32mif\u001b[0m \u001b[0mtimeout\u001b[0m \u001b[0;32mis\u001b[0m \u001b[0;32mNone\u001b[0m\u001b[0;34m:\u001b[0m\u001b[0;34m\u001b[0m\u001b[0;34m\u001b[0m\u001b[0m\n\u001b[0;32m--> 295\u001b[0;31m                 \u001b[0mwaiter\u001b[0m\u001b[0;34m.\u001b[0m\u001b[0macquire\u001b[0m\u001b[0;34m(\u001b[0m\u001b[0;34m)\u001b[0m\u001b[0;34m\u001b[0m\u001b[0;34m\u001b[0m\u001b[0m\n\u001b[0m\u001b[1;32m    296\u001b[0m                 \u001b[0mgotit\u001b[0m \u001b[0;34m=\u001b[0m \u001b[0;32mTrue\u001b[0m\u001b[0;34m\u001b[0m\u001b[0;34m\u001b[0m\u001b[0m\n\u001b[1;32m    297\u001b[0m             \u001b[0;32melse\u001b[0m\u001b[0;34m:\u001b[0m\u001b[0;34m\u001b[0m\u001b[0;34m\u001b[0m\u001b[0m\n",
      "\u001b[0;31mKeyboardInterrupt\u001b[0m: "
     ]
    }
   ],
   "source": [
    "# Too slow with multiple output regressor\n",
    "with open(output_dir + \"run_xgboost.log\", \"a+\") as log_file:\n",
    "    logcsvwriter = csv.writer(log_file)\n",
    "\n",
    "    subject = subjlist[0]\n",
    "    fmri_filenames = sorted(glob.glob(os.path.join(subjects_fmri_data, subject, \"run*.nii.gz\")))\n",
    "    fmri_runs = [masker.transform(f) for f in fmri_filenames]\n",
    "    n_train = len(fmri_runs)\n",
    "    n_voxel = fmri_runs[0].shape[1]\n",
    "    train = [i for i in range(0, n_train)]\n",
    "    \n",
    "    r2_cv_train_score = np.zeros((n_train, n_voxel))\n",
    "    r2_cv_test_score = np.zeros((n_train, n_voxel))\n",
    "\n",
    "    for idx, cv_test_id in enumerate(train):\n",
    "        print(idx)\n",
    "        fmri_data = np.vstack([fmri_runs[i] for i in train if i != cv_test_id])\n",
    "        predictors = np.vstack([dtx_mat[i] for i in train if i != cv_test_id])\n",
    "        regressor = MultiOutputRegressor(XGBRegressor(n_jobs=1, objective='reg:linear'), n_jobs=-2).fit(predictors, fmri_data)\n",
    "        r2_cv_train_score[idx, :] = clean_rscorer(regressor, predictors, fmri_data)\n",
    "        r2_cv_test_score[idx, :] = clean_rscorer(regressor, dtx_mat[cv_test_id], fmri_runs[cv_test_id])\n",
    "        \n",
    "    for voxel_id in range(n_voxel):\n",
    "        log(r2_cv_train_score[:, voxel_id], r2_cv_test_score[:, voxel_id], 'uni', voxel_id)\n",
    "\n",
    "    nib.save(masker.inverse_transform(r2_cv_train_score.mean(axis=0)), op.join(\n",
    "                        output_dir, 'train_{}_xgb.nii.gz'.format(subject)))\n",
    "\n",
    "    nib.save(masker.inverse_transform(r2_cv_test_score.mean(axis=0)), op.join(\n",
    "            output_dir, 'test_{}_xgb.nii.gz'.format(subject)))\n",
    "    "
   ]
  },
  {
   "cell_type": "markdown",
   "metadata": {},
   "source": [
    "# Log \n",
    "Structure: sub, alpha_space, dim_space, train_score(n_train, n_dim, n_alpha, n_voxel), test_score, "
   ]
  },
  {
   "cell_type": "code",
   "execution_count": 6,
   "metadata": {},
   "outputs": [],
   "source": [
    "base_log = open(op.join(root_dir, 'outputs', 'results-indiv-ridge', lingua, base_model, 'DIM_ALPHA_RIDGE', 'run_dim_alpha_search.pkl'), mode='rb')"
   ]
  },
  {
   "cell_type": "code",
   "execution_count": 7,
   "metadata": {},
   "outputs": [
    {
     "data": {
      "text/plain": [
       "array([0, 1, 2, 3])"
      ]
     },
     "execution_count": 7,
     "metadata": {},
     "output_type": "execute_result"
    }
   ],
   "source": [
    "pickle.load(base_log)\n",
    "pickle.load(base_log)\n",
    "pickle.load(base_log)"
   ]
  },
  {
   "cell_type": "code",
   "execution_count": 8,
   "metadata": {},
   "outputs": [],
   "source": [
    "subject_base = pickle.load(base_log)\n",
    "base_alpha_space = pickle.load(base_log)\n",
    "base_dim_space = pickle.load(base_log)\n",
    "base_train_score = pickle.load(base_log)\n",
    "base_test_score = pickle.load(base_log)"
   ]
  },
  {
   "cell_type": "code",
   "execution_count": 9,
   "metadata": {},
   "outputs": [],
   "source": [
    "sim_log = open(op.join(root_dir, 'outputs', 'results-indiv-ridge', lingua, sim_model, 'DIM_ALPHA_RIDGE', 'run_dim_alpha_search.pkl'), mode='rb')\n",
    "sim_log_data = []"
   ]
  },
  {
   "cell_type": "code",
   "execution_count": 10,
   "metadata": {},
   "outputs": [],
   "source": [
    "subject_sim = pickle.load(sim_log)\n",
    "sim_alpha_space = pickle.load(sim_log)\n",
    "sim_dim_space = pickle.load(sim_log)\n",
    "sim_train_score = pickle.load(sim_log)\n",
    "sim_test_score = pickle.load(sim_log)"
   ]
  },
  {
   "cell_type": "code",
   "execution_count": 11,
   "metadata": {},
   "outputs": [
    {
     "data": {
      "text/plain": [
       "(array([0.00000000e+00, 1.00000000e+00, 3.98107171e+00, 1.58489319e+01,\n",
       "        6.30957344e+01, 2.51188643e+02, 3.16227766e+02, 3.79269019e+02,\n",
       "        4.54877795e+02, 5.45559478e+02, 6.54318913e+02, 7.84759970e+02,\n",
       "        9.41204967e+02, 1.12883789e+03, 1.35387618e+03, 1.62377674e+03,\n",
       "        1.94748304e+03, 2.33572147e+03, 2.80135676e+03, 3.35981829e+03,\n",
       "        4.02961132e+03, 4.83293024e+03, 5.79639395e+03, 6.95192796e+03,\n",
       "        8.33782223e+03, 1.00000000e+04]),\n",
       " array([ 1,  2,  3,  4,  6,  8, 10, 12, 14, 16, 18, 20, 22, 24, 34, 44, 54,\n",
       "        64, 74, 84, 94]))"
      ]
     },
     "execution_count": 11,
     "metadata": {},
     "output_type": "execute_result"
    }
   ],
   "source": [
    "sim_alpha_space, sim_dim_space"
   ]
  },
  {
   "cell_type": "code",
   "execution_count": 12,
   "metadata": {},
   "outputs": [],
   "source": [
    "sim_test_mean = sim_test_score.mean(axis=0)"
   ]
  },
  {
   "cell_type": "code",
   "execution_count": 13,
   "metadata": {},
   "outputs": [
    {
     "data": {
      "text/plain": [
       "(21, 26, 57533)"
      ]
     },
     "execution_count": 13,
     "metadata": {},
     "output_type": "execute_result"
    }
   ],
   "source": [
    "sim_test_mean.shape"
   ]
  },
  {
   "cell_type": "code",
   "execution_count": 14,
   "metadata": {},
   "outputs": [],
   "source": [
    "n_selection = 1000"
   ]
  },
  {
   "cell_type": "code",
   "execution_count": 15,
   "metadata": {},
   "outputs": [],
   "source": [
    "sim_best_voxels = sim_test_mean.max(axis=(0,1)).argsort()[:-n_selection]"
   ]
  },
  {
   "cell_type": "code",
   "execution_count": 18,
   "metadata": {},
   "outputs": [
    {
     "data": {
      "application/vnd.jupyter.widget-view+json": {
       "model_id": "ea0b4cfe5d564f5abf902c46c709f188",
       "version_major": 2,
       "version_minor": 0
      },
      "text/plain": [
       "FigureCanvasNbAgg()"
      ]
     },
     "metadata": {},
     "output_type": "display_data"
    }
   ],
   "source": [
    "%matplotlib ipympl\n",
    "\n",
    "fig = plt.figure()\n",
    "ax = fig.add_subplot(111, projection='3d')\n",
    "X, Y = np.meshgrid(sim_alpha_space, sim_dim_space)\n",
    "ax.plot_surface(X, np.log10(Y), sim_test_mean[:, :, sim_best_voxels[-1]])\n",
    "ax.plot_surface(X, np.log10(Y), sim_test_mean[:, :, sim_best_voxels[-2]])\n",
    "ax.plot_surface(X, np.log10(Y), sim_test_mean[:, :, sim_best_voxels[-3]])\n",
    "ax.set_xlabel('alpha')\n",
    "ax.set_ylabel('dim')\n",
    "ax.set_xticklabels(sim_alpha_space)\n",
    "ax.set_yticklabels(sim_dim_space)\n",
    "fig.show()"
   ]
  },
  {
   "cell_type": "code",
   "execution_count": null,
   "metadata": {},
   "outputs": [],
   "source": []
  },
  {
   "cell_type": "code",
   "execution_count": 4,
   "metadata": {},
   "outputs": [],
   "source": [
    "asn_model = 'rms-wrate-asn200'"
   ]
  },
  {
   "cell_type": "code",
   "execution_count": 5,
   "metadata": {},
   "outputs": [],
   "source": [
    "asn_log = open(op.join(root_dir, 'outputs', 'results-indiv-ridge', lingua, asn_model, 'run_dim_alpha_search.pkl'), mode='rb')\n",
    "asn_log_data = []"
   ]
  },
  {
   "cell_type": "code",
   "execution_count": 6,
   "metadata": {},
   "outputs": [],
   "source": [
    "asn_subject = pickle.load(asn_log)\n",
    "asn_alpha_space = pickle.load(asn_log)\n",
    "asn_dim_space = pickle.load(asn_log)\n",
    "asn_train_score = pickle.load(asn_log)\n",
    "asn_test_score = pickle.load(asn_log)"
   ]
  },
  {
   "cell_type": "code",
   "execution_count": 7,
   "metadata": {},
   "outputs": [
    {
     "data": {
      "text/plain": [
       "('sub-07_fm180074',\n",
       " array([0.00000000e+00, 1.00000000e+00, 3.98107171e+00, 1.58489319e+01,\n",
       "        6.30957344e+01, 2.51188643e+02, 3.16227766e+02, 3.79269019e+02,\n",
       "        4.54877795e+02, 5.45559478e+02, 6.54318913e+02, 7.84759970e+02,\n",
       "        9.41204967e+02, 1.12883789e+03, 1.35387618e+03, 1.62377674e+03,\n",
       "        1.94748304e+03, 2.33572147e+03, 2.80135676e+03, 3.35981829e+03,\n",
       "        4.02961132e+03, 4.83293024e+03, 5.79639395e+03, 6.95192796e+03,\n",
       "        8.33782223e+03, 1.00000000e+04]),\n",
       " array([  1,   2,   3,   5,   7,   9,  11,  13,  15,  17,  19,  21,  23,\n",
       "         25,  25,  35,  45,  55,  65,  75,  85,  95, 105, 115, 125, 135,\n",
       "        145, 155, 165, 175, 185, 195, 205]),\n",
       " (9, 33, 26, 57533))"
      ]
     },
     "execution_count": 7,
     "metadata": {},
     "output_type": "execute_result"
    }
   ],
   "source": [
    "asn_subject, asn_dim_space, asn_alpha_space, asn_train_score.shape"
   ]
  },
  {
   "cell_type": "code",
   "execution_count": 12,
   "metadata": {},
   "outputs": [
    {
     "data": {
      "text/plain": [
       "('best dim', 32, 32, 'best alpha', 25, 0)"
      ]
     },
     "execution_count": 12,
     "metadata": {},
     "output_type": "execute_result"
    }
   ],
   "source": [
    "asn_test_mean = asn_test_score.mean(axis=0)\n",
    "n_selection = 1000\n",
    "asn_best_voxels = asn_test_mean.max(axis=(0,1)).argsort()[:-n_selection]"
   ]
  },
  {
   "cell_type": "code",
   "execution_count": 13,
   "metadata": {},
   "outputs": [
    {
     "data": {
      "text/plain": [
       "('best dim', 205, 205, 'best alpha', 10000.0, 0.0)"
      ]
     },
     "execution_count": 13,
     "metadata": {},
     "output_type": "execute_result"
    }
   ],
   "source": [
    "'best dim', asn_dim_space[asn_test_mean.argmax(axis=0).max()], asn_dim_space[asn_train_score.mean(axis=0).argmax(axis=0).max()], \\\n",
    "'best alpha', asn_alpha_space[asn_test_score.mean(axis=0).argmax(axis=1).max()], asn_alpha_space[asn_train_score.mean(axis=0).argmax(axis=1).max()]"
   ]
  },
  {
   "cell_type": "code",
   "execution_count": 33,
   "metadata": {},
   "outputs": [],
   "source": [
    "asn_test_best_dim = asn_test_mean.argmax(axis=0)\n",
    "asn_test_best_dim_score = asn_test_mean.max(axis=0)"
   ]
  },
  {
   "cell_type": "code",
   "execution_count": 60,
   "metadata": {},
   "outputs": [
    {
     "data": {
      "text/plain": [
       "array([[ 2, 12,  4, ...,  0,  0,  0],\n",
       "       [ 2, 12,  4, ...,  0,  0,  0],\n",
       "       [ 2, 12,  4, ...,  0,  0,  0],\n",
       "       ...,\n",
       "       [ 3, 12, 17, ...,  0,  0,  0],\n",
       "       [ 3, 12, 17, ...,  0,  0,  0],\n",
       "       [ 3, 12, 17, ...,  0,  0,  0]])"
      ]
     },
     "execution_count": 60,
     "metadata": {},
     "output_type": "execute_result"
    }
   ],
   "source": [
    "asn_test_best_dim"
   ]
  },
  {
   "cell_type": "code",
   "execution_count": 74,
   "metadata": {},
   "outputs": [],
   "source": [
    "asn_test_best_dim_best_alpha_id = asn_test_best_dim_score.argmax(axis=0)\n",
    "asn_test_best_dim_best_alpha_score = asn_test_best_dim_score.max(axis=0)"
   ]
  },
  {
   "cell_type": "code",
   "execution_count": 75,
   "metadata": {},
   "outputs": [],
   "source": [
    "asn_test_best_dim_id_for_best_alpha = asn_test_best_dim[asn_test_best_dim_best_alpha_id, range(57533)]\n",
    "asn_test_best_dim_for_best_alpha = asn_dim_space[asn_test_best_dim_best_alpha]\n",
    "asn_test_best_dim_best_alpha = asn_alpha_space[asn_test_best_dim_best_alpha_id]"
   ]
  },
  {
   "cell_type": "code",
   "execution_count": 95,
   "metadata": {},
   "outputs": [],
   "source": [
    "asn_test_best_dim_best_alpha_sum = np.zeros((len(asn_dim_space), len(asn_alpha_space)))\n",
    "asn_test_best_dim_best_alpha_count = np.zeros((len(asn_dim_space), len(asn_alpha_space)))\n",
    "for i in range(57533):\n",
    "    asn_test_best_dim_best_alpha_sum[asn_test_best_dim_id_for_best_alpha[i], asn_test_best_dim_best_alpha_id[i]] += asn_test_best_dim_best_alpha_score[i]\n",
    "    asn_test_best_dim_best_alpha_count[asn_test_best_dim_id_for_best_alpha[i], asn_test_best_dim_best_alpha_id[i]] += 1"
   ]
  },
  {
   "cell_type": "code",
   "execution_count": 97,
   "metadata": {},
   "outputs": [
    {
     "name": "stderr",
     "output_type": "stream",
     "text": [
      "/home/sying/root/anaconda3/envs/micipsa/lib/python3.6/site-packages/ipykernel_launcher.py:1: RuntimeWarning: invalid value encountered in true_divide\n",
      "  \"\"\"Entry point for launching an IPython kernel.\n"
     ]
    }
   ],
   "source": [
    "asn_test_best_dim_best_alpha_mean = asn_test_best_dim_best_alpha_sum/asn_test_best_dim_best_alpha_count"
   ]
  },
  {
   "cell_type": "code",
   "execution_count": 103,
   "metadata": {},
   "outputs": [
    {
     "data": {
      "application/vnd.jupyter.widget-view+json": {
       "model_id": "",
       "version_major": 2,
       "version_minor": 0
      },
      "text/plain": [
       "FigureCanvasNbAgg()"
      ]
     },
     "metadata": {},
     "output_type": "display_data"
    }
   ],
   "source": [
    "%matplotlib ipympl\n",
    "\n",
    "fig = plt.figure()\n",
    "ax = fig.add_subplot(111, projection='3d')\n",
    "plt.title('Dim, Alpha, Best Count')\n",
    "ax.plot_surface(np.log(X+1), np.log10(Y), asn_test_best_dim_best_alpha_mean)\n",
    "ax.plot_surface(np.log(X+1), np.log10(Y), np.log10(asn_test_best_dim_best_alpha_count+1))\n",
    "\n",
    "ax.set_xlabel('alpha')\n",
    "ax.set_ylabel('dim')\n",
    "#ax.set_xticklabels(asn_alpha_space)\n",
    "#ax.set_yticklabels(asn_dim_space)\n",
    "fig.show()"
   ]
  },
  {
   "cell_type": "code",
   "execution_count": 104,
   "metadata": {},
   "outputs": [
    {
     "data": {
      "application/vnd.jupyter.widget-view+json": {
       "model_id": "ade6a0470cd0460cabceb9f57731eddf",
       "version_major": 2,
       "version_minor": 0
      },
      "text/plain": [
       "FigureCanvasNbAgg()"
      ]
     },
     "metadata": {},
     "output_type": "display_data"
    }
   ],
   "source": [
    "%matplotlib ipympl\n",
    "\n",
    "fig = plt.figure()\n",
    "ax = fig.add_subplot(111, projection='3d')\n",
    "plt.title('Best Dim, Alpha, Mean Perf')\n",
    "ax.plot_surface(np.log(X+1), np.log10(Y), asn_test_best_dim_best_alpha_mean)\n",
    "\n",
    "ax.set_xlabel('alpha')\n",
    "ax.set_ylabel('dim')\n",
    "#ax.set_xticklabels(asn_alpha_space)\n",
    "#ax.set_yticklabels(asn_dim_space)\n",
    "fig.show()"
   ]
  },
  {
   "cell_type": "code",
   "execution_count": 39,
   "metadata": {},
   "outputs": [
    {
     "data": {
      "text/plain": [
       "(57533,)"
      ]
     },
     "execution_count": 39,
     "metadata": {},
     "output_type": "execute_result"
    }
   ],
   "source": [
    "asn_test_best_dim_best_alpha_score.shape"
   ]
  },
  {
   "cell_type": "code",
   "execution_count": 23,
   "metadata": {},
   "outputs": [
    {
     "data": {
      "application/vnd.jupyter.widget-view+json": {
       "model_id": "",
       "version_major": 2,
       "version_minor": 0
      },
      "text/plain": [
       "FigureCanvasNbAgg()"
      ]
     },
     "metadata": {},
     "output_type": "display_data"
    }
   ],
   "source": [
    "%matplotlib ipympl\n",
    "\n",
    "fig = plt.figure()\n",
    "ax = fig.add_subplot(111, projection='3d')\n",
    "plt.title('Dim, Alpha, Perf')\n",
    "X, Y = np.meshgrid(asn_alpha_space, asn_dim_space)\n",
    "ax.plot_surface(np.log(X+1), np.log10(Y), asn_test_mean.mean(axis=2))\n",
    "ax.plot_surface(np.log(X+1), np.log10(Y), asn_test_mean.max(axis=2))\n",
    "ax.set_xlabel('alpha')\n",
    "ax.set_ylabel('dim')\n",
    "#ax.set_xticklabels(asn_alpha_space)\n",
    "#ax.set_yticklabels(asn_dim_space)\n",
    "fig.show()"
   ]
  },
  {
   "cell_type": "code",
   "execution_count": 15,
   "metadata": {},
   "outputs": [
    {
     "data": {
      "application/vnd.jupyter.widget-view+json": {
       "model_id": "",
       "version_major": 2,
       "version_minor": 0
      },
      "text/plain": [
       "FigureCanvasNbAgg()"
      ]
     },
     "metadata": {},
     "output_type": "display_data"
    }
   ],
   "source": [
    "%matplotlib ipympl\n",
    "\n",
    "fig = plt.figure()\n",
    "ax = fig.add_subplot(111, projection='3d')\n",
    "X, Y = np.meshgrid(asn_alpha_space, asn_dim_space)\n",
    "ax.plot_surface(X, Y, asn_test_mean[:, :, asn_best_voxels[-1]])\n",
    "ax.plot_surface(X, Y, asn_test_mean[:, :, asn_best_voxels[-2]])\n",
    "ax.plot_surface(X, Y, asn_test_mean[:, :, asn_best_voxels[-3]])\n",
    "ax.set_xlabel('alpha')\n",
    "ax.set_ylabel('dim')\n",
    "#ax.set_xticklabels(asn_alpha_space)\n",
    "#ax.set_yticklabels(asn_dim_space)\n",
    "fig.show()"
   ]
  },
  {
   "cell_type": "code",
   "execution_count": null,
   "metadata": {},
   "outputs": [],
   "source": []
  }
 ],
 "metadata": {
  "kernelspec": {
   "display_name": "Python 3",
   "language": "python",
   "name": "python3"
  },
  "language_info": {
   "codemirror_mode": {
    "name": "ipython",
    "version": 3
   },
   "file_extension": ".py",
   "mimetype": "text/x-python",
   "name": "python",
   "nbconvert_exporter": "python",
   "pygments_lexer": "ipython3",
   "version": "3.6.7"
  }
 },
 "nbformat": 4,
 "nbformat_minor": 2
}
