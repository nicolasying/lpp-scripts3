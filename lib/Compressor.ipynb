{
 "cells": [
  {
   "cell_type": "code",
   "execution_count": 28,
   "metadata": {},
   "outputs": [],
   "source": [
    "import glob\n",
    "import numpy as np\n",
    "import pickle\n",
    "import os.path as op\n",
    "import os"
   ]
  },
  {
   "cell_type": "code",
   "execution_count": 6,
   "metadata": {},
   "outputs": [],
   "source": [
    "files = glob.glob('../outputs/results-indiv-ridge/fr/rms-wrate-sim103/cache/*.pkl')"
   ]
  },
  {
   "cell_type": "code",
   "execution_count": 24,
   "metadata": {},
   "outputs": [],
   "source": [
    "parent_dir = op.dirname(file)"
   ]
  },
  {
   "cell_type": "code",
   "execution_count": 27,
   "metadata": {},
   "outputs": [
    {
     "data": {
      "text/plain": [
       "'5'"
      ]
     },
     "execution_count": 27,
     "metadata": {},
     "output_type": "execute_result"
    }
   ],
   "source": [
    "os."
   ]
  },
  {
   "cell_type": "code",
   "execution_count": 9,
   "metadata": {},
   "outputs": [],
   "source": [
    "file = files[0]\n",
    "with open(file, mode='rb') as fi:\n",
    "    try:\n",
    "        subject = pickle.load(fi)\n",
    "        alpha = np.array(pickle.load(fi))\n",
    "        dimension = pickle.load(fi)\n",
    "        train = pickle.load(fi)\n",
    "        test = pickle.load(fi)\n",
    "        fold = file[-5]\n",
    "        np.savez_compressed(op.join(parent_dir, '{}_fold_{}.npz'.format(subject, fold), test=test, train=train)\n",
    "        os.remove(file)\n",
    "    except EOFError:\n",
    "        print(file)"
   ]
  },
  {
   "cell_type": "code",
   "execution_count": 16,
   "metadata": {},
   "outputs": [
    {
     "data": {
      "text/plain": [
       "'../outputs/results-indiv-ridge/fr/rms-wrate-sim103/cache/rms-wrate-sim103_sub-02_ag170045_run_dim_alpha_search_fold_5.npz'"
      ]
     },
     "execution_count": 16,
     "metadata": {},
     "output_type": "execute_result"
    }
   ],
   "source": [
    "file[:-3]+'npz'"
   ]
  },
  {
   "cell_type": "code",
   "execution_count": 21,
   "metadata": {},
   "outputs": [],
   "source": [
    "np.save(file[:-3]+'test.npy', test, allow_pickle=False)"
   ]
  },
  {
   "cell_type": "code",
   "execution_count": 17,
   "metadata": {},
   "outputs": [],
   "source": [
    "np.savez_compressed(file[:-3]+'npz', test=test, train=train)"
   ]
  },
  {
   "cell_type": "code",
   "execution_count": 33,
   "metadata": {},
   "outputs": [],
   "source": [
    "for file in files[2:]:\n",
    "    if 'fold' in file: \n",
    "        with open(file, mode='rb') as fi:\n",
    "            try:\n",
    "                subject = pickle.load(fi)\n",
    "                alpha = np.array(pickle.load(fi))\n",
    "                dimension = np.array(pickle.load(fi))\n",
    "                train = pickle.load(fi)\n",
    "                test = pickle.load(fi)\n",
    "                fold = file[-5]\n",
    "                np.savez_compressed(op.join(parent_dir, '{}_fold_{}.npz'.format(subject, fold)), test=test, train=train, alpha=alpha, dimension=dimension)\n",
    "                os.remove(file)\n",
    "            except EOFError:\n",
    "                print(file)"
   ]
  },
  {
   "cell_type": "code",
   "execution_count": null,
   "metadata": {},
   "outputs": [],
   "source": []
  }
 ],
 "metadata": {
  "kernelspec": {
   "display_name": "Python 3",
   "language": "python",
   "name": "python3"
  },
  "language_info": {
   "codemirror_mode": {
    "name": "ipython",
    "version": 3
   },
   "file_extension": ".py",
   "mimetype": "text/x-python",
   "name": "python",
   "nbconvert_exporter": "python",
   "pygments_lexer": "ipython3",
   "version": "3.6.7"
  }
 },
 "nbformat": 4,
 "nbformat_minor": 2
}
